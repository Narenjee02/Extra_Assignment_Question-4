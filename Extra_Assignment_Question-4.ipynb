{
 "cells": [
  {
   "cell_type": "code",
   "execution_count": 20,
   "id": "0b47b92d",
   "metadata": {},
   "outputs": [],
   "source": [
    " # Create a class and function, and list out the items in the list\n",
    "def subfields():\n",
    "    print(\"Sub-fields in AI are:\")\n",
    "    Lists=['Machine Learning','Neural Networks','Vision','Robotics','Speech Processing','Natural Language Processing']\n",
    "    for temp in Lists:\n",
    "        print(temp)"
   ]
  },
  {
   "cell_type": "code",
   "execution_count": 21,
   "id": "bebc88a0",
   "metadata": {},
   "outputs": [
    {
     "name": "stdout",
     "output_type": "stream",
     "text": [
      "Sub-fields in AI are:\n",
      "Machine Learning\n",
      "Neural Networks\n",
      "Vision\n",
      "Robotics\n",
      "Speech Processing\n",
      "Natural Language Processing\n"
     ]
    }
   ],
   "source": [
    "subfields()"
   ]
  },
  {
   "cell_type": "code",
   "execution_count": 18,
   "id": "06b80463",
   "metadata": {},
   "outputs": [],
   "source": [
    "# Create a function that checks whether the given number is Odd or Even\n",
    "def OddEven():\n",
    "    num=int(input(\"Enter a number:\"))\n",
    "    if(num%2)==0:\n",
    "         print(num,\"is Even number\")\n",
    "    else:\n",
    "         print(num,\"is Odd number\")\n"
   ]
  },
  {
   "cell_type": "code",
   "execution_count": 19,
   "id": "d4db946d",
   "metadata": {},
   "outputs": [
    {
     "name": "stdout",
     "output_type": "stream",
     "text": [
      "Enter a number:5\n",
      "5 is Odd number\n"
     ]
    }
   ],
   "source": [
    "OddEven()"
   ]
  },
  {
   "cell_type": "code",
   "execution_count": 16,
   "id": "271d5ce8",
   "metadata": {},
   "outputs": [],
   "source": [
    "# Create "
   ]
  },
  {
   "cell_type": "code",
   "execution_count": 29,
   "id": "ccc05a65",
   "metadata": {},
   "outputs": [],
   "source": [
    "# calculate the percentage of your 10th mark\n",
    "def percentage():\n",
    "    Subject1=int(input(\"Subject1=\"))\n",
    "    Subject2=int(input(\"Subject2=\"))\n",
    "    Subject3=int(input(\"Subject3=\"))\n",
    "    Subject4=int(input(\"Subject4=\"))\n",
    "    Subject5=int(input(\"Subject5=\"))\n",
    "    Add=Subject1+Subject2+Subject3+Subject4+Subject5\n",
    "    print(\"Total :\",Add)\n",
    "    Percentage=Add/5\n",
    "    print(\"Percentage :\",Percentage) "
   ]
  },
  {
   "cell_type": "code",
   "execution_count": 30,
   "id": "dddf4f4d",
   "metadata": {},
   "outputs": [
    {
     "name": "stdout",
     "output_type": "stream",
     "text": [
      "Subject1=98\n",
      "Subject2=87\n",
      "Subject3=95\n",
      "Subject4=95\n",
      "Subject5=93\n",
      "Total : 468\n",
      "Percentage : 93.6\n"
     ]
    }
   ],
   "source": [
    "percentage()"
   ]
  },
  {
   "cell_type": "code",
   "execution_count": 34,
   "id": "ba2579c8",
   "metadata": {},
   "outputs": [],
   "source": [
    "#print area and perimeter of triangle using class and functions\n",
    "def triangle():\n",
    "     Height=int(input(\"Height:\"))\n",
    "     Breadth=int(input(\"Breadth:\"))\n",
    "     print(\"Area formula: (Height*Breadth)/2\")\n",
    "     print(\"Area of Triangle:\",(Height*Breadth)/2)\n",
    "     Height1=int(input(\"Height1:\"))\n",
    "     Height2=int(input(\"Height2:\"))\n",
    "     Breadth=int(input(\"Breadth:\"))\n",
    "     print(\"Perimeter formula: Height1+Height2+Breadth\")\n",
    "     print(\"Perimeter of Triangle:\",Height1+Height2+Breadth)"
   ]
  },
  {
   "cell_type": "code",
   "execution_count": 35,
   "id": "6d5794da",
   "metadata": {},
   "outputs": [
    {
     "name": "stdout",
     "output_type": "stream",
     "text": [
      "Height:32\n",
      "Breadth:34\n",
      "Area formula: (Height*Breadth)/2\n",
      "Area of Triangle: 544.0\n",
      "Height1:2\n",
      "Height2:4\n",
      "Breadth:4\n",
      "Perimeter formula: Height1+Height2+Breadth\n",
      "Perimeter of Triangle: 10\n"
     ]
    }
   ],
   "source": [
    "triangle()"
   ]
  },
  {
   "cell_type": "code",
   "execution_count": 1,
   "id": "8747cb3a",
   "metadata": {},
   "outputs": [],
   "source": [
    "# Create a function that tells elegibility of marriage for male and female according to their age limit like 21 for male and 18 for female\n",
    "def Elegible():\n",
    "    gender=input(\"Your Gender:\")\n",
    "    age=int(input(\"Your Age:\"))\n",
    "    if(gender=='Male'):\n",
    "        if(age<21):\n",
    "            print(\"Not Eligible\")\n",
    "        else:\n",
    "            print(\"Eligible\")\n",
    "    elif(gender=='Female'):\n",
    "        if(age<18):\n",
    "            print(\"Not Eligible\")\n",
    "        else:\n",
    "            print(\"Eligible\")\n",
    "    else:\n",
    "        print(\"None\")"
   ]
  },
  {
   "cell_type": "code",
   "execution_count": 2,
   "id": "3a2f8cd5",
   "metadata": {},
   "outputs": [
    {
     "name": "stdout",
     "output_type": "stream",
     "text": [
      "Your Gender:Male\n",
      "Your Age:23\n",
      "Eligible\n"
     ]
    }
   ],
   "source": [
    "Elegible()"
   ]
  }
 ],
 "metadata": {
  "kernelspec": {
   "display_name": "Python 3 (ipykernel)",
   "language": "python",
   "name": "python3"
  },
  "language_info": {
   "codemirror_mode": {
    "name": "ipython",
    "version": 3
   },
   "file_extension": ".py",
   "mimetype": "text/x-python",
   "name": "python",
   "nbconvert_exporter": "python",
   "pygments_lexer": "ipython3",
   "version": "3.11.5"
  }
 },
 "nbformat": 4,
 "nbformat_minor": 5
}
